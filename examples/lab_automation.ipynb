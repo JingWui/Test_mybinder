{
 "cells": [
  {
   "cell_type": "markdown",
   "metadata": {},
   "source": [
    "# SynBioPython lab automation module"
   ]
  },
  {
   "cell_type": "markdown",
   "metadata": {},
   "source": [
    "This notebook demonstrates the functionalities of the lab automation module of [SynBioPython](https://github.com/Global-Biofoundries-Alliance/SynBioPython)."
   ]
  },
  {
   "cell_type": "code",
   "execution_count": 1,
   "metadata": {},
   "outputs": [],
   "source": [
    "import synbiopython.lab_automation as lab"
   ]
  },
  {
   "cell_type": "markdown",
   "metadata": {},
   "source": [
    "## Plates"
   ]
  },
  {
   "cell_type": "markdown",
   "metadata": {},
   "source": [
    "The module contains classes for several plate formats (96-well, 384-well etc):"
   ]
  },
  {
   "cell_type": "code",
   "execution_count": 2,
   "metadata": {},
   "outputs": [],
   "source": [
    "source = lab.Plate96(name=\"96-well plate\")"
   ]
  },
  {
   "cell_type": "markdown",
   "metadata": {},
   "source": [
    "Contents of a plate can be retrieved or manipulated:"
   ]
  },
  {
   "cell_type": "code",
   "execution_count": 3,
   "metadata": {},
   "outputs": [],
   "source": [
    "source.wells[\"A1\"].add_content({\"Compound_1\": 1}, volume=5 * 10 ** (-6))\n",
    "source.wells[\"C2\"].add_content({\"Compound_X\": 1}, volume=15 * 10 ** (-6))"
   ]
  },
  {
   "cell_type": "code",
   "execution_count": 4,
   "metadata": {},
   "outputs": [
    {
     "name": "stdout",
     "output_type": "stream",
     "text": [
      "The volume of well A1 is: 4.9999999999999996e-06 L\n"
     ]
    }
   ],
   "source": [
    "print(\"The volume of well A1 is:\", source.wells[\"A1\"].volume, \"L\")"
   ]
  },
  {
   "cell_type": "code",
   "execution_count": 5,
   "metadata": {},
   "outputs": [
    {
     "data": {
      "text/plain": [
       "[(96-well plate-A1),\n",
       " (96-well plate-A2),\n",
       " (96-well plate-A3),\n",
       " (96-well plate-A4),\n",
       " (96-well plate-A5),\n",
       " (96-well plate-A6),\n",
       " (96-well plate-A7),\n",
       " (96-well plate-A8),\n",
       " (96-well plate-A9),\n",
       " (96-well plate-A10),\n",
       " (96-well plate-A11),\n",
       " (96-well plate-A12)]"
      ]
     },
     "execution_count": 5,
     "metadata": {},
     "output_type": "execute_result"
    }
   ],
   "source": [
    "source.list_wells_in_row(1)"
   ]
  },
  {
   "cell_type": "markdown",
   "metadata": {},
   "source": [
    "We can export our plates, for example:"
   ]
  },
  {
   "cell_type": "code",
   "execution_count": 6,
   "metadata": {},
   "outputs": [
    {
     "data": {
      "text/html": [
       "<div>\n",
       "<style scoped>\n",
       "    .dataframe tbody tr th:only-of-type {\n",
       "        vertical-align: middle;\n",
       "    }\n",
       "\n",
       "    .dataframe tbody tr th {\n",
       "        vertical-align: top;\n",
       "    }\n",
       "\n",
       "    .dataframe thead th {\n",
       "        text-align: right;\n",
       "    }\n",
       "</style>\n",
       "<table border=\"1\" class=\"dataframe\">\n",
       "  <thead>\n",
       "    <tr style=\"text-align: right;\">\n",
       "      <th></th>\n",
       "      <th>name</th>\n",
       "      <th>content</th>\n",
       "      <th>row</th>\n",
       "      <th>column</th>\n",
       "    </tr>\n",
       "  </thead>\n",
       "  <tbody>\n",
       "    <tr>\n",
       "      <th>A1</th>\n",
       "      <td>A1</td>\n",
       "      <td>{'volume': 4.9999999999999996e-06, 'quantities...</td>\n",
       "      <td>1</td>\n",
       "      <td>1</td>\n",
       "    </tr>\n",
       "    <tr>\n",
       "      <th>A2</th>\n",
       "      <td>A2</td>\n",
       "      <td>{'volume': 0, 'quantities': {}}</td>\n",
       "      <td>1</td>\n",
       "      <td>2</td>\n",
       "    </tr>\n",
       "    <tr>\n",
       "      <th>A3</th>\n",
       "      <td>A3</td>\n",
       "      <td>{'volume': 0, 'quantities': {}}</td>\n",
       "      <td>1</td>\n",
       "      <td>3</td>\n",
       "    </tr>\n",
       "    <tr>\n",
       "      <th>A4</th>\n",
       "      <td>A4</td>\n",
       "      <td>{'volume': 0, 'quantities': {}}</td>\n",
       "      <td>1</td>\n",
       "      <td>4</td>\n",
       "    </tr>\n",
       "    <tr>\n",
       "      <th>A5</th>\n",
       "      <td>A5</td>\n",
       "      <td>{'volume': 0, 'quantities': {}}</td>\n",
       "      <td>1</td>\n",
       "      <td>5</td>\n",
       "    </tr>\n",
       "    <tr>\n",
       "      <th>...</th>\n",
       "      <td>...</td>\n",
       "      <td>...</td>\n",
       "      <td>...</td>\n",
       "      <td>...</td>\n",
       "    </tr>\n",
       "    <tr>\n",
       "      <th>H8</th>\n",
       "      <td>H8</td>\n",
       "      <td>{'volume': 0, 'quantities': {}}</td>\n",
       "      <td>8</td>\n",
       "      <td>8</td>\n",
       "    </tr>\n",
       "    <tr>\n",
       "      <th>H9</th>\n",
       "      <td>H9</td>\n",
       "      <td>{'volume': 0, 'quantities': {}}</td>\n",
       "      <td>8</td>\n",
       "      <td>9</td>\n",
       "    </tr>\n",
       "    <tr>\n",
       "      <th>H10</th>\n",
       "      <td>H10</td>\n",
       "      <td>{'volume': 0, 'quantities': {}}</td>\n",
       "      <td>8</td>\n",
       "      <td>10</td>\n",
       "    </tr>\n",
       "    <tr>\n",
       "      <th>H11</th>\n",
       "      <td>H11</td>\n",
       "      <td>{'volume': 0, 'quantities': {}}</td>\n",
       "      <td>8</td>\n",
       "      <td>11</td>\n",
       "    </tr>\n",
       "    <tr>\n",
       "      <th>H12</th>\n",
       "      <td>H12</td>\n",
       "      <td>{'volume': 0, 'quantities': {}}</td>\n",
       "      <td>8</td>\n",
       "      <td>12</td>\n",
       "    </tr>\n",
       "  </tbody>\n",
       "</table>\n",
       "<p>96 rows × 4 columns</p>\n",
       "</div>"
      ],
      "text/plain": [
       "    name                                            content row column\n",
       "A1    A1  {'volume': 4.9999999999999996e-06, 'quantities...   1      1\n",
       "A2    A2                    {'volume': 0, 'quantities': {}}   1      2\n",
       "A3    A3                    {'volume': 0, 'quantities': {}}   1      3\n",
       "A4    A4                    {'volume': 0, 'quantities': {}}   1      4\n",
       "A5    A5                    {'volume': 0, 'quantities': {}}   1      5\n",
       "..   ...                                                ...  ..    ...\n",
       "H8    H8                    {'volume': 0, 'quantities': {}}   8      8\n",
       "H9    H9                    {'volume': 0, 'quantities': {}}   8      9\n",
       "H10  H10                    {'volume': 0, 'quantities': {}}   8     10\n",
       "H11  H11                    {'volume': 0, 'quantities': {}}   8     11\n",
       "H12  H12                    {'volume': 0, 'quantities': {}}   8     12\n",
       "\n",
       "[96 rows x 4 columns]"
      ]
     },
     "execution_count": 6,
     "metadata": {},
     "output_type": "execute_result"
    }
   ],
   "source": [
    "source.to_pandas_dataframe()"
   ]
  },
  {
   "cell_type": "markdown",
   "metadata": {},
   "source": [
    "## Transfers"
   ]
  },
  {
   "cell_type": "markdown",
   "metadata": {},
   "source": [
    "We can transfer between plates:"
   ]
  },
  {
   "cell_type": "code",
   "execution_count": 7,
   "metadata": {},
   "outputs": [],
   "source": [
    "destination = lab.Plate384(name=\"384-well plate\")"
   ]
  },
  {
   "cell_type": "code",
   "execution_count": 8,
   "metadata": {},
   "outputs": [
    {
     "data": {
      "text/plain": [
       "0"
      ]
     },
     "execution_count": 8,
     "metadata": {},
     "output_type": "execute_result"
    }
   ],
   "source": [
    "destination.wells[\"G8\"].volume"
   ]
  },
  {
   "cell_type": "code",
   "execution_count": 9,
   "metadata": {},
   "outputs": [],
   "source": [
    "transfer = lab.Transfer(source.wells[\"C2\"], destination.wells[\"G8\"], 3 * 10 ** (-6))\n",
    "transfer.apply()"
   ]
  },
  {
   "cell_type": "code",
   "execution_count": 10,
   "metadata": {},
   "outputs": [
    {
     "data": {
      "text/plain": [
       "3e-06"
      ]
     },
     "execution_count": 10,
     "metadata": {},
     "output_type": "execute_result"
    }
   ],
   "source": [
    "destination.wells[\"G8\"].volume"
   ]
  },
  {
   "cell_type": "markdown",
   "metadata": {},
   "source": [
    "## Picklists"
   ]
  },
  {
   "cell_type": "markdown",
   "metadata": {},
   "source": [
    "A picklist represents a list of well-to-well transfers."
   ]
  },
  {
   "cell_type": "code",
   "execution_count": 11,
   "metadata": {},
   "outputs": [],
   "source": [
    "picklist = lab.PickList()\n",
    "picklist.add_transfer(transfer=transfer)\n",
    "transfer_2 = lab.Transfer(source.wells[\"A1\"], destination.wells[\"I12\"], 2 * 10 ** (-6))\n",
    "picklist.add_transfer(transfer=transfer_2)"
   ]
  },
  {
   "cell_type": "code",
   "execution_count": 12,
   "metadata": {},
   "outputs": [
    {
     "name": "stdout",
     "output_type": "stream",
     "text": [
      "Transfer 3.00E-06L from 96-well plate C2 into 384-well plate G8\n",
      "Transfer 2.00E-06L from 96-well plate A1 into 384-well plate I12\n"
     ]
    }
   ],
   "source": [
    "print(picklist.to_plain_string())"
   ]
  },
  {
   "cell_type": "markdown",
   "metadata": {},
   "source": [
    "We can perform the transfers in the picklist:"
   ]
  },
  {
   "cell_type": "code",
   "execution_count": 13,
   "metadata": {},
   "outputs": [],
   "source": [
    "picklist.simulate()"
   ]
  }
 ],
 "metadata": {
  "kernelspec": {
   "display_name": "dev",
   "language": "python",
   "name": "dev"
  },
  "language_info": {
   "codemirror_mode": {
    "name": "ipython",
    "version": 3
   },
   "file_extension": ".py",
   "mimetype": "text/x-python",
   "name": "python",
   "nbconvert_exporter": "python",
   "pygments_lexer": "ipython3",
   "version": "3.6.7"
  }
 },
 "nbformat": 4,
 "nbformat_minor": 4
}
